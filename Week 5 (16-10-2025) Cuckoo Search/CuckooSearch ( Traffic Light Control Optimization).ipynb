{
 "cells": [
  {
   "cell_type": "code",
   "execution_count": 3,
   "id": "3cc21606-418d-4060-9855-e8ff6232a08e",
   "metadata": {},
   "outputs": [
    {
     "name": "stdout",
     "output_type": "stream",
     "text": [
      "Iteration 1: Best fitness = 2253.49\n",
      "Iteration 2: Best fitness = 763.96\n",
      "Iteration 3: Best fitness = 763.96\n",
      "Iteration 4: Best fitness = 763.96\n",
      "Iteration 5: Best fitness = 763.96\n",
      "Iteration 6: Best fitness = 763.96\n",
      "Iteration 7: Best fitness = 763.96\n",
      "Iteration 8: Best fitness = 763.96\n",
      "Iteration 9: Best fitness = 763.96\n",
      "Iteration 10: Best fitness = 763.96\n",
      "\n",
      "Best traffic light timings found:\n",
      "North (N): 0.0 sec\n",
      "South (S): 29.03751552834611 sec\n",
      "East (E): 0.0 sec\n",
      "West (W): 1.09329698645283 sec\n",
      "Best fitness (traffic congestion and fuel consumption): 763.9561541384134\n"
     ]
    }
   ],
   "source": [
    "import numpy as np\n",
    "import random\n",
    "\n",
    "def objective_function(timings):\n",
    "    waiting_times = np.random.randint(0, 100, 4)\n",
    "    fuel_consumption = np.sum(waiting_times * timings)\n",
    "    total_wait_time = np.sum(waiting_times)\n",
    "    fitness = total_wait_time + fuel_consumption\n",
    "    return fitness\n",
    "\n",
    "def levy_flight(alpha=1.5, size=4):\n",
    "    step = np.random.normal(0, 1, size)\n",
    "    flight = np.sign(step) * np.abs(step) ** (1 / alpha)\n",
    "    return flight\n",
    "\n",
    "def cuckoo_search(nests, iterations, P_alpha, alpha=1.5):\n",
    "    best_nest = nests[0]\n",
    "    best_fitness = objective_function(best_nest)\n",
    "\n",
    "    for iteration in range(iterations):\n",
    "        for i in range(len(nests)):\n",
    "            new_nest = nests[i] + alpha * levy_flight(alpha)\n",
    "            new_nest = np.clip(new_nest, 0, 60)\n",
    "            new_fitness = objective_function(new_nest)\n",
    "\n",
    "            if new_fitness < objective_function(nests[i]):\n",
    "                nests[i] = new_nest\n",
    "\n",
    "            if new_fitness < best_fitness:\n",
    "                best_fitness = new_fitness\n",
    "                best_nest = new_nest\n",
    "\n",
    "        num_to_replace = int(P_alpha * len(nests))\n",
    "        for _ in range(num_to_replace):\n",
    "            new_random_nest = np.random.uniform(0, 60, size=4)\n",
    "            nests[random.randint(0, len(nests)-1)] = new_random_nest\n",
    "\n",
    "        print(f\"Iteration {iteration + 1}: Best fitness = {best_fitness:.2f}\")\n",
    "    \n",
    "    return best_nest, best_fitness\n",
    "\n",
    "num_nests = 20\n",
    "n_directions = 4\n",
    "nests = np.random.uniform(0, 60, size=(num_nests, n_directions))\n",
    "\n",
    "iterations = 10\n",
    "P_alpha = 0.25\n",
    "\n",
    "best_nest, best_fitness = cuckoo_search(nests, iterations, P_alpha)\n",
    "\n",
    "print(\"\\nBest traffic light timings found:\")\n",
    "print(\"North (N):\", best_nest[0], \"sec\")\n",
    "print(\"South (S):\", best_nest[1], \"sec\")\n",
    "print(\"East (E):\", best_nest[2], \"sec\")\n",
    "print(\"West (W):\", best_nest[3], \"sec\")\n",
    "print(\"Best fitness (traffic congestion and fuel consumption):\", best_fitness)\n"
   ]
  },
  {
   "cell_type": "code",
   "execution_count": null,
   "id": "1ba5219c-2676-498c-ae51-4ef65e2da3e6",
   "metadata": {},
   "outputs": [],
   "source": []
  }
 ],
 "metadata": {
  "kernelspec": {
   "display_name": "Python 3 (ipykernel)",
   "language": "python",
   "name": "python3"
  },
  "language_info": {
   "codemirror_mode": {
    "name": "ipython",
    "version": 3
   },
   "file_extension": ".py",
   "mimetype": "text/x-python",
   "name": "python",
   "nbconvert_exporter": "python",
   "pygments_lexer": "ipython3",
   "version": "3.13.5"
  }
 },
 "nbformat": 4,
 "nbformat_minor": 5
}
